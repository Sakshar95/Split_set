{
  "nbformat": 4,
  "nbformat_minor": 0,
  "metadata": {
    "colab": {
      "provenance": [],
      "authorship_tag": "ABX9TyOg44TTTfDHgH25eMGkBq4d",
      "include_colab_link": true
    },
    "kernelspec": {
      "name": "python3",
      "display_name": "Python 3"
    },
    "language_info": {
      "name": "python"
    }
  },
  "cells": [
    {
      "cell_type": "markdown",
      "metadata": {
        "id": "view-in-github",
        "colab_type": "text"
      },
      "source": [
        "<a href=\"https://colab.research.google.com/github/Sakshar95/Split_set/blob/main/Untitled2.ipynb\" target=\"_parent\"><img src=\"https://colab.research.google.com/assets/colab-badge.svg\" alt=\"Open In Colab\"/></a>"
      ]
    },
    {
      "cell_type": "code",
      "execution_count": 1,
      "metadata": {
        "id": "ko1I5JjwP_hQ"
      },
      "outputs": [],
      "source": [
        "import pandas as pd\n",
        "import numpy as np\n",
        "import matplotlib.pyplot as plt"
      ]
    },
    {
      "cell_type": "code",
      "source": [
        "housing = pd.read_csv(\"housing.csv\")"
      ],
      "metadata": {
        "id": "2SeO3tJBQOk2"
      },
      "execution_count": 2,
      "outputs": []
    },
    {
      "cell_type": "markdown",
      "source": [
        "# Split training and testing"
      ],
      "metadata": {
        "id": "AAHGfmdiQTiR"
      }
    },
    {
      "cell_type": "code",
      "source": [
        "np.random.seed(2025)\n",
        "\n",
        "np.random.permutation(20)\n"
      ],
      "metadata": {
        "colab": {
          "base_uri": "https://localhost:8080/"
        },
        "id": "kawcqc1pQYE5",
        "outputId": "36d892c0-d58d-4bb6-c998-848b6740cd4b"
      },
      "execution_count": 3,
      "outputs": [
        {
          "output_type": "execute_result",
          "data": {
            "text/plain": [
              "array([17,  2, 11, 14, 15,  4,  9,  7, 16, 13,  1, 10,  5,  8,  6,  0, 19,\n",
              "        3, 12, 18])"
            ]
          },
          "metadata": {},
          "execution_count": 3
        }
      ]
    },
    {
      "cell_type": "code",
      "source": [
        "np.random.seed(2025)\n",
        "\n",
        "test_ratio = 0.2\n",
        "\n",
        "shuffled_indices = np.random.permutation(len(housing))\n",
        "\n",
        "test_set_size = int(len(housing) * test_ratio)\n",
        "\n",
        "test_indices = shuffled_indices[:test_set_size]\n",
        "train_indices = shuffled_indices[test_set_size:]\n",
        "\n",
        "test_set, train_set = housing.iloc[test_indices], housing.iloc[train_indices]"
      ],
      "metadata": {
        "id": "KmkUOPV-RB9W"
      },
      "execution_count": 10,
      "outputs": []
    },
    {
      "cell_type": "code",
      "source": [
        "test_set.shape, train_set.shape"
      ],
      "metadata": {
        "colab": {
          "base_uri": "https://localhost:8080/"
        },
        "id": "4W7rUv7_SZJR",
        "outputId": "086e2ac0-28b3-4b47-851e-a59f99b5f48f"
      },
      "execution_count": 11,
      "outputs": [
        {
          "output_type": "execute_result",
          "data": {
            "text/plain": [
              "((4128, 10), (16512, 10))"
            ]
          },
          "metadata": {},
          "execution_count": 11
        }
      ]
    },
    {
      "cell_type": "code",
      "source": [
        "from sklearn.model_selection import train_test_split\n",
        "\n",
        "train_set, test_set = train_test_split(housing, test_size=0.2, random_state=2025)"
      ],
      "metadata": {
        "id": "9yoLWkRgTJnZ"
      },
      "execution_count": 12,
      "outputs": []
    },
    {
      "cell_type": "code",
      "source": [
        "test_set.shape, train_set.shape"
      ],
      "metadata": {
        "colab": {
          "base_uri": "https://localhost:8080/"
        },
        "id": "S1BGQuYATgg7",
        "outputId": "1429ebdf-04d7-4256-bfeb-d1b06dfb1254"
      },
      "execution_count": 13,
      "outputs": [
        {
          "output_type": "execute_result",
          "data": {
            "text/plain": [
              "((4128, 10), (16512, 10))"
            ]
          },
          "metadata": {},
          "execution_count": 13
        }
      ]
    },
    {
      "cell_type": "markdown",
      "source": [],
      "metadata": {
        "id": "_RaJY5xcR6ZQ"
      }
    },
    {
      "cell_type": "code",
      "source": [
        "shuffled_indices"
      ],
      "metadata": {
        "colab": {
          "base_uri": "https://localhost:8080/"
        },
        "id": "erx6YyS7Rf5o",
        "outputId": "ede8a38a-47f7-4046-a5a4-a12a33c3f25d"
      },
      "execution_count": 6,
      "outputs": [
        {
          "output_type": "execute_result",
          "data": {
            "text/plain": [
              "array([ 8651,  3034,  2918, ..., 15948, 11102, 16338])"
            ]
          },
          "metadata": {},
          "execution_count": 6
        }
      ]
    }
  ]
}